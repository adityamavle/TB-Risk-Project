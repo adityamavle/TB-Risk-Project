{
  "nbformat": 4,
  "nbformat_minor": 0,
  "metadata": {
    "colab": {
      "provenance": [],
      "include_colab_link": true
    },
    "kernelspec": {
      "name": "python3",
      "display_name": "Python 3"
    },
    "language_info": {
      "name": "python"
    }
  },
  "cells": [
    {
      "cell_type": "markdown",
      "metadata": {
        "id": "view-in-github",
        "colab_type": "text"
      },
      "source": [
        "<a href=\"https://colab.research.google.com/github/adityamavle/TB-Risk-Project/blob/main/Simulation_Scenario_2.ipynb\" target=\"_parent\"><img src=\"https://colab.research.google.com/assets/colab-badge.svg\" alt=\"Open In Colab\"/></a>"
      ]
    },
    {
      "cell_type": "code",
      "execution_count": null,
      "metadata": {
        "id": "PdGa0u0YLgPr"
      },
      "outputs": [],
      "source": [
        "import pandas as pd\n",
        "import numpy as np\n",
        "import matplotlib.pyplot as plt\n",
        "import seaborn as sns\n",
        "import plotly.express as px\n",
        "import random\n",
        "from statsmodels.stats.power import TTestIndPower\n",
        "from collections import Counter\n",
        "import random"
      ]
    },
    {
      "cell_type": "markdown",
      "source": [
        "# **Dataset Simulation**"
      ],
      "metadata": {
        "id": "U2SCDe2tHcKM"
      }
    },
    {
      "cell_type": "code",
      "source": [
        "def create_clinical_dataset(prob_2_2_and_1_1,prob_3_3,prob_2_1,prob_3_2,prob_3_1,prob_1_0,prob_2_0,prob_3_0,gender,bmi,edu,ttd,age,size=60):\n",
        "  np.random.seed(200)\n",
        "  age_1 = np.random.normal(loc=age[2], scale=age[3], size=size*27)\n",
        "  age_1 = np.clip(age_1, a_min=age[0], a_max=age[1])\n",
        "  age_1 = np.round(age_1).astype(int)\n",
        "  sex = np.random.choice(2,size*27,p=[gender[0],gender[1]])\n",
        "  body_mass= np.random.choice(3,size*27,p=[bmi[0],bmi[1],bmi[2]])\n",
        "  education= np.random.choice(4,size*27,p=[edu[0],edu[1],edu[2],edu[3]])\n",
        "  cavitation = np.random.choice(2,size*27,p=[0.5,0.5])\n",
        "  ttd1 = np.random.normal(loc=ttd[0], scale=ttd[1],size=size*27)\n",
        "  alc_int = np.array([])\n",
        "  mh_int = np.array([])\n",
        "  smoking_int = np.array([])\n",
        "  values = [0, 1, 2] #0 NA 1:NO INTER 2:Intervention\n",
        "  combinations = np.array(np.meshgrid(*([values] * 3))).T.reshape(-1, 3)\n",
        "  for value in values:\n",
        "    if not any((combinations == value).all(axis=1)):\n",
        "        # If a value doesn't appear, add it to a random combination\n",
        "        i = np.random.randint(len(combinations))\n",
        "        j = np.random.randint(3)\n",
        "        combinations[i, j] = value\n",
        "\n",
        "  #combinations = np.delete(combinations, 0, axis=0)\n",
        "  for i in range(len(combinations)):\n",
        "        alc_int = np.append(alc_int, np.tile(combinations[i, 0], size))\n",
        "        mh_int = np.append(mh_int, np.tile(combinations[i, 1], size))\n",
        "        smoking_int = np.append(smoking_int, np.tile(combinations[i, 2], size))\n",
        "        alc_int = alc_int.astype(int)\n",
        "        mh_int = mh_int.astype(int)\n",
        "        smoking_int = smoking_int.astype(int)\n",
        "  values_array = np.column_stack(((alc_int, mh_int, smoking_int)))\n",
        "  # filter out rows where all values are zero\n",
        "  values_array = values_array[~np.all(values_array == 0, axis=1)]\n",
        "  tuples_list = list(map(tuple, values_array))\n",
        "  print(tuples_list)\n",
        "  combinations_dict = {\n",
        "                         (0, 1, 0):prob_1_0,\n",
        "                         (0, 2, 0):prob_2_2_and_1_1,\n",
        "                          (1, 0, 0):prob_1_0,\n",
        "                     (1, 1, 0):prob_2_0,\n",
        "                     (1, 2, 0):prob_2_1,\n",
        "                     (2, 0, 0):prob_2_2_and_1_1,\n",
        "                     (2, 1, 0):prob_2_1,\n",
        "                     (2, 2, 0):prob_2_2_and_1_1,\n",
        "                     (0, 0, 1):prob_1_0,\n",
        "                     (0, 1, 1):prob_2_0,\n",
        "                     (0, 2, 1):prob_2_1,\n",
        "                     (1, 0, 1):prob_2_0 ,\n",
        "                     (1, 1, 1):prob_3_0,\n",
        "                     (1, 2, 1):prob_3_1 ,\n",
        "                     (2, 0, 1):prob_2_1 ,\n",
        "                     (2, 1, 1):prob_3_1,\n",
        "                     (2, 2, 1):prob_3_2 ,\n",
        "                     (0, 0, 2):prob_2_2_and_1_1,\n",
        "                     (0, 1, 2):prob_2_1 ,\n",
        "                     (0, 2, 2):prob_2_2_and_1_1,\n",
        "                     (1, 0, 2):prob_2_1,\n",
        "                     (1, 1, 2):prob_3_1,\n",
        "                     (1, 2, 2):prob_3_2 ,\n",
        "                     (2, 0, 2):prob_2_2_and_1_1,\n",
        "                     (2, 1, 2):prob_3_2 ,\n",
        "                     (2, 2, 2):prob_3_3,\n",
        "                    }\n",
        "  prob = list()\n",
        "  prob_random = list()\n",
        "  treatment_outcomes = np.empty(len(tuples_list))\n",
        "  #n = len(tuples_list)\n",
        "  #treatment_outcomes = np.zeros👎\n",
        "  #for i in range(len(tuples_list)):\n",
        "      #prob.append(combinations_dict.get(tuples_list[i]))\n",
        "  #num_ones = int(prob * n)  # number of ones to generate\n",
        "  #ones_indices = np.random.choice(n, size=num_ones, replace=False)  # generate random indices to set to 1\n",
        "  #treatment_outcomes[ones_indices] = 1\n",
        "\n",
        "  for i in range(len(tuples_list)):\n",
        "      prob.append(combinations_dict.get(tuples_list[i]))\n",
        "      prob_random.append(prob[i]+round(np.random.uniform(-0.02,0.02),4))\n",
        "      #print(Counter(prob_random))\n",
        "      probability = prob_random[i]\n",
        "      #probability = prob[i]\n",
        "      #probability = max(min(prob_random, 1), 0)\n",
        "      #prob = combinations_dict.get(tuples_list[i])\n",
        "      #prob_random = prob + round(np.random.uniform(-0.02, 0.02), 4)\n",
        "      #probability = max(min(prob_random, 1), 0)\n",
        "      if np.isnan(probability):\n",
        "        treatment_outcomes[i] = np.nan\n",
        "    # otherwise, generate a random outcome based on the probability using np.random.choice\n",
        "      else:\n",
        "        #treatment_outcomes[i] = np.random.choice(2 ,p=[1-probability,probability]) #####np.random.rand\n",
        "        if np.random.rand() < probability:\n",
        "            treatment_outcomes[i] = 1\n",
        "        else:\n",
        "            treatment_outcomes[i] = 0\n",
        "\n",
        "  treatment_outcomes = treatment_outcomes.astype(int)\n",
        "  df = pd.DataFrame({'alc_inter': alc_int, 'mh_inter': mh_int, 'smoke_inter': smoking_int,'age':age_1,'sex':sex,'bmi':body_mass,'education':education,'cavitation':cavitation,'ttd':ttd1})\n",
        "  df = df[~((df['alc_inter'] == 0) & (df['mh_inter'] == 0) & (df['smoke_inter'] == 0))]\n",
        "  df['treatment_outcomes'] = treatment_outcomes\n",
        "  df['alcohol'] = df['alc_inter'].apply(lambda x: 1 if x == 1 or x == 2 else 0)\n",
        "  df['mental_health'] = df['mh_inter'].apply(lambda x: 1 if x == 1 or x == 2 else 0)\n",
        "  df['smoking'] = df['smoke_inter'].apply(lambda x: 1 if x == 1 or x == 2 else 0)\n",
        "  df = df.sample(frac=1).reset_index(drop=True)\n",
        "  case1_1 = df.loc[(df['smoke_inter'] == 2) & (df['alc_inter'] == 2) & (df['mh_inter'] == 2), 'treatment_outcomes'].value_counts(normalize=True)\n",
        "  case1_1 = case1_1.get(1, 0)\n",
        "  case1_2 = df.loc[(df['smoke_inter'] == 2) & (df['alc_inter'] == 2) & (df['mh_inter'] == 1), 'treatment_outcomes'].value_counts(normalize=True)\n",
        "  case1_2 = case1_2.get(1, 0)\n",
        "  case1_3 = df.loc[(df['smoke_inter'] == 2) & (df['alc_inter'] == 1) & (df['mh_inter'] == 2), 'treatment_outcomes'].value_counts(normalize=True)\n",
        "  case1_3 = case1_3.get(1, 0)\n",
        "  case1_4 = df.loc[(df['smoke_inter'] == 1) & (df['alc_inter'] == 2) & (df['mh_inter'] == 2), 'treatment_outcomes'].value_counts(normalize=True)\n",
        "  case1_4 = case1_4.get(1, 0)\n",
        "  case1_5 = df.loc[(df['smoke_inter'] == 2) & (df['alc_inter'] == 1) & (df['mh_inter'] == 1), 'treatment_outcomes'].value_counts(normalize=True)\n",
        "  case1_5 = case1_5.get(1, 0)\n",
        "  case1_6 = df.loc[(df['smoke_inter'] == 1) & (df['alc_inter'] == 2) & (df['mh_inter'] == 1), 'treatment_outcomes'].value_counts(normalize=True)\n",
        "  case1_6 = case1_6.get(1, 0)\n",
        "  case1_7 = df.loc[(df['smoke_inter'] == 1) & (df['alc_inter'] == 1) & (df['mh_inter'] == 2), 'treatment_outcomes'].value_counts(normalize=True)\n",
        "  case1_7 = case1_7.get(1, 0)\n",
        "  case1_8 = df.loc[(df['smoke_inter'] == 1) & (df['alc_inter'] == 1) & (df['mh_inter'] == 1), 'treatment_outcomes'].value_counts(normalize=True)\n",
        "  case1_8 = case1_8.get(1, 0)\n",
        "\n",
        "  case2_1 = df.loc[(df['smoke_inter'] == 2) & (df['alc_inter'] == 2) & (df['mh_inter'] == 0), 'treatment_outcomes'].value_counts(normalize=True)\n",
        "  case2_1 = case2_1.get(1, 0)\n",
        "  case2_2 = df.loc[(df['smoke_inter'] == 2) & (df['alc_inter'] == 1) & (df['mh_inter'] == 0), 'treatment_outcomes'].value_counts(normalize=True)\n",
        "  case2_2 = case2_2.get(1, 0)\n",
        "  case2_3 = df.loc[(df['smoke_inter'] == 1) & (df['alc_inter'] == 2) & (df['mh_inter'] == 0), 'treatment_outcomes'].value_counts(normalize=True)\n",
        "  case2_3 = case2_3.get(1, 0)\n",
        "  case2_4 = df.loc[(df['smoke_inter'] == 1) & (df['alc_inter'] == 1) & (df['mh_inter'] == 0), 'treatment_outcomes'].value_counts(normalize=True)\n",
        "  case2_4 = case2_4.get(1, 0)\n",
        "\n",
        "  case3_1 = df.loc[(df['smoke_inter'] == 2) & (df['alc_inter'] == 0) & (df['mh_inter'] == 2), 'treatment_outcomes'].value_counts(normalize=True)\n",
        "  case3_1 = case3_1.get(1, 0)\n",
        "  case3_2 = df.loc[(df['smoke_inter'] == 2) & (df['alc_inter'] == 0) & (df['mh_inter'] == 1), 'treatment_outcomes'].value_counts(normalize=True)\n",
        "  case3_2 = case3_2.get(1, 0)\n",
        "  case3_3 = df.loc[(df['smoke_inter'] == 1) & (df['alc_inter'] == 0) & (df['mh_inter'] == 2), 'treatment_outcomes'].value_counts(normalize=True)\n",
        "  case3_3 = case3_3.get(1, 0)\n",
        "  case3_4 = df.loc[(df['smoke_inter'] == 1) & (df['alc_inter'] == 0) & (df['mh_inter'] == 1), 'treatment_outcomes'].value_counts(normalize=True)\n",
        "  case3_4 = case3_4.get(1, 0)\n",
        "\n",
        "  case4_1 = df.loc[(df['smoke_inter'] == 0) & (df['alc_inter'] == 2) & (df['mh_inter'] == 2), 'treatment_outcomes'].value_counts(normalize=True)\n",
        "  case4_1 = case4_1.get(1, 0)\n",
        "  case4_2 = df.loc[(df['smoke_inter'] == 0) & (df['alc_inter'] == 2) & (df['mh_inter'] == 1), 'treatment_outcomes'].value_counts(normalize=True)\n",
        "  case4_2 = case4_2.get(1, 0)\n",
        "  case4_3 = df.loc[(df['smoke_inter'] == 0) & (df['alc_inter'] == 1) & (df['mh_inter'] == 2), 'treatment_outcomes'].value_counts(normalize=True)\n",
        "  case4_3 = case4_3.get(1, 0)\n",
        "  case4_4 = df.loc[(df['smoke_inter'] == 0) & (df['alc_inter'] == 1) & (df['mh_inter'] == 1), 'treatment_outcomes'].value_counts(normalize=True)\n",
        "  case4_4 = case4_4.get(1, 0)\n",
        "\n",
        "  case5_1 = df.loc[(df['smoke_inter'] == 2) & (df['alc_inter'] == 0) & (df['mh_inter'] == 0), 'treatment_outcomes'].value_counts(normalize=True)\n",
        "  case5_1 = case5_1.get(1, 0)\n",
        "  case5_2 = df.loc[(df['smoke_inter'] == 1) & (df['alc_inter'] == 0) & (df['mh_inter'] == 0), 'treatment_outcomes'].value_counts(normalize=True)\n",
        "  case5_2 = case5_2.get(1, 0)\n",
        "\n",
        "  case6_1 = df.loc[(df['smoke_inter'] == 0) & (df['alc_inter'] == 0) & (df['mh_inter'] == 2), 'treatment_outcomes'].value_counts(normalize=True)\n",
        "  case6_1 = case6_1.get(1, 0)\n",
        "  case6_2 = df.loc[(df['smoke_inter'] == 0) & (df['alc_inter'] == 0) & (df['mh_inter'] == 1), 'treatment_outcomes'].value_counts(normalize=True)\n",
        "  case6_2 = case6_2.get(1, 0)\n",
        "\n",
        "  case7_1 = df.loc[(df['smoke_inter'] == 0) & (df['alc_inter'] == 2) & (df['mh_inter'] == 0), 'treatment_outcomes'].value_counts(normalize=True)\n",
        "  case7_1 = case7_1.get(1, 0)\n",
        "  case7_2 = df.loc[(df['smoke_inter'] == 0) & (df['alc_inter'] == 1) & (df['mh_inter'] == 0), 'treatment_outcomes'].value_counts(normalize=True)\n",
        "  case7_2 = case7_2.get(1, 0)\n",
        "\n",
        "  power_intervention_smoke = case1_1*(1/8) + case1_2*(1/8) + case1_3*(1/8) + case1_5*(1/8) + case2_1*(1/4) + case2_2*(1/4) + case3_1*(1/4) + case3_2*(1/4) + case5_1*(1/2)\n",
        "  power_intervention_alc = case1_1*(1/8) + case1_2*(1/8) + case1_4*(1/8) + case1_6*(1/8) + case2_1*(1/4) + case2_3*(1/4) + case4_1*(1/4) + case4_2*(1/4) + case7_1*(1/2)\n",
        "  power_intervention_mh = case1_1*(1/8) + case1_3*(1/8) + case1_4*(1/8) + case1_7*(1/8) + case3_1*(1/4) + case3_3*(1/4) + case4_1*(1/4) + case4_3*(1/4) + case6_1*(1/2)\n",
        "\n",
        "\n",
        "  power_control_smoke = case1_4*(1/8) + case1_6*(1/8) + case1_7*(1/8) + case1_8*(1/8) + case2_3*(1/4) + case2_4*(1/4) + case3_3*(1/4) + case3_4*(1/4) + case5_2*(1/2)\n",
        "  power_control_alc = case1_3*(1/8) + case1_5*(1/8) + case1_7*(1/8) + case1_8*(1/8) + case2_2*(1/4) + case2_4*(1/4) + case4_3*(1/4) + case4_4*(1/4) + case7_2*(1/2)\n",
        "  power_control_mh = case1_2*(1/8) + case1_5*(1/8) + case1_6*(1/8) + case1_8*(1/8) + case3_2*(1/4) + case3_4*(1/4) + case4_2*(1/4) + case4_4*(1/4) + case6_2*(1/2)\n",
        "\n",
        "  my_list = [power_intervention_smoke, power_intervention_alc, power_intervention_mh, power_control_smoke, power_control_alc, power_control_mh]\n",
        "  print(my_list)\n",
        "\n",
        "  df['treatment_smoke'] = df['smoke_inter'].apply(lambda x: np.random.choice([2, 1], p=[power_intervention_smoke, 1- power_intervention_smoke]) if x == 2\n",
        "                                                else np.random.choice([2, 1], p=[power_control_smoke, 1-power_control_smoke]) if x == 1 else 0)\n",
        "\n",
        "  df['treatment_alc'] = df['alc_inter'].apply(lambda x: np.random.choice([2, 1], p=[power_intervention_alc, 1 - power_intervention_alc]) if x == 2\n",
        "                                                else np.random.choice([2, 1], p=[power_control_alc, 1-power_control_alc]) if x == 1 else 0)\n",
        "\n",
        "  df['treatment_mh'] = df['mh_inter'].apply(lambda x: np.random.choice([2, 1], p=[power_intervention_mh, 1-power_intervention_mh]) if x == 2\n",
        "                                                else np.random.choice([2, 1], p=[power_control_mh, 1-power_control_mh]) if x == 1 else 0)\n",
        "\n",
        "  #values = tuple(df[])\n",
        "  return df\n",
        "  print(df.head())"
      ],
      "metadata": {
        "id": "uZbta953LpmI"
      },
      "execution_count": null,
      "outputs": []
    },
    {
      "cell_type": "code",
      "source": [
        "df = create_clinical_dataset(0.06,0.07,0.09,0.10,0.11,0.12,0.13,0.14,gender=[0.5,0.5],bmi=[0.2,0.5,0.3],edu=[0.1,0.2,0.2,0.5],ttd=[5,2],age=[18,60,35,15])"
      ],
      "metadata": {
        "colab": {
          "base_uri": "https://localhost:8080/"
        },
        "id": "xtXEDLHr0YzR",
        "outputId": "4506693b-26cc-49c6-d6c2-0ff4f2638cc7"
      },
      "execution_count": null,
      "outputs": [
        {
          "output_type": "stream",
          "name": "stdout",
          "text": [
            "[(0, 1, 0), (0, 1, 0), (0, 1, 0), (0, 1, 0), (0, 1, 0), (0, 1, 0), (0, 1, 0), (0, 1, 0), (0, 1, 0), (0, 1, 0), (0, 1, 0), (0, 1, 0), (0, 1, 0), (0, 1, 0), (0, 1, 0), (0, 1, 0), (0, 1, 0), (0, 1, 0), (0, 1, 0), (0, 1, 0), (0, 1, 0), (0, 1, 0), (0, 1, 0), (0, 1, 0), (0, 1, 0), (0, 1, 0), (0, 1, 0), (0, 1, 0), (0, 1, 0), (0, 1, 0), (0, 1, 0), (0, 1, 0), (0, 1, 0), (0, 1, 0), (0, 1, 0), (0, 1, 0), (0, 1, 0), (0, 1, 0), (0, 1, 0), (0, 1, 0), (0, 1, 0), (0, 1, 0), (0, 1, 0), (0, 1, 0), (0, 1, 0), (0, 1, 0), (0, 1, 0), (0, 1, 0), (0, 1, 0), (0, 1, 0), (0, 1, 0), (0, 1, 0), (0, 1, 0), (0, 1, 0), (0, 1, 0), (0, 1, 0), (0, 1, 0), (0, 1, 0), (0, 1, 0), (0, 1, 0), (0, 2, 0), (0, 2, 0), (0, 2, 0), (0, 2, 0), (0, 2, 0), (0, 2, 0), (0, 2, 0), (0, 2, 0), (0, 2, 0), (0, 2, 0), (0, 2, 0), (0, 2, 0), (0, 2, 0), (0, 2, 0), (0, 2, 0), (0, 2, 0), (0, 2, 0), (0, 2, 0), (0, 2, 0), (0, 2, 0), (0, 2, 0), (0, 2, 0), (0, 2, 0), (0, 2, 0), (0, 2, 0), (0, 2, 0), (0, 2, 0), (0, 2, 0), (0, 2, 0), (0, 2, 0), (0, 2, 0), (0, 2, 0), (0, 2, 0), (0, 2, 0), (0, 2, 0), (0, 2, 0), (0, 2, 0), (0, 2, 0), (0, 2, 0), (0, 2, 0), (0, 2, 0), (0, 2, 0), (0, 2, 0), (0, 2, 0), (0, 2, 0), (0, 2, 0), (0, 2, 0), (0, 2, 0), (0, 2, 0), (0, 2, 0), (0, 2, 0), (0, 2, 0), (0, 2, 0), (0, 2, 0), (0, 2, 0), (0, 2, 0), (0, 2, 0), (0, 2, 0), (0, 2, 0), (0, 2, 0), (1, 0, 0), (1, 0, 0), (1, 0, 0), (1, 0, 0), (1, 0, 0), (1, 0, 0), (1, 0, 0), (1, 0, 0), (1, 0, 0), (1, 0, 0), (1, 0, 0), (1, 0, 0), (1, 0, 0), (1, 0, 0), (1, 0, 0), (1, 0, 0), (1, 0, 0), (1, 0, 0), (1, 0, 0), (1, 0, 0), (1, 0, 0), (1, 0, 0), (1, 0, 0), (1, 0, 0), (1, 0, 0), (1, 0, 0), (1, 0, 0), (1, 0, 0), (1, 0, 0), (1, 0, 0), (1, 0, 0), (1, 0, 0), (1, 0, 0), (1, 0, 0), (1, 0, 0), (1, 0, 0), (1, 0, 0), (1, 0, 0), (1, 0, 0), (1, 0, 0), (1, 0, 0), (1, 0, 0), (1, 0, 0), (1, 0, 0), (1, 0, 0), (1, 0, 0), (1, 0, 0), (1, 0, 0), (1, 0, 0), (1, 0, 0), (1, 0, 0), (1, 0, 0), (1, 0, 0), (1, 0, 0), (1, 0, 0), (1, 0, 0), (1, 0, 0), (1, 0, 0), (1, 0, 0), (1, 0, 0), (1, 1, 0), (1, 1, 0), (1, 1, 0), (1, 1, 0), (1, 1, 0), (1, 1, 0), (1, 1, 0), (1, 1, 0), (1, 1, 0), (1, 1, 0), (1, 1, 0), (1, 1, 0), (1, 1, 0), (1, 1, 0), (1, 1, 0), (1, 1, 0), (1, 1, 0), (1, 1, 0), (1, 1, 0), (1, 1, 0), (1, 1, 0), (1, 1, 0), (1, 1, 0), (1, 1, 0), (1, 1, 0), (1, 1, 0), (1, 1, 0), (1, 1, 0), (1, 1, 0), (1, 1, 0), (1, 1, 0), (1, 1, 0), (1, 1, 0), (1, 1, 0), (1, 1, 0), (1, 1, 0), (1, 1, 0), (1, 1, 0), (1, 1, 0), (1, 1, 0), (1, 1, 0), (1, 1, 0), (1, 1, 0), (1, 1, 0), (1, 1, 0), (1, 1, 0), (1, 1, 0), (1, 1, 0), (1, 1, 0), (1, 1, 0), (1, 1, 0), (1, 1, 0), (1, 1, 0), (1, 1, 0), (1, 1, 0), (1, 1, 0), (1, 1, 0), (1, 1, 0), (1, 1, 0), (1, 1, 0), (1, 2, 0), (1, 2, 0), (1, 2, 0), (1, 2, 0), (1, 2, 0), (1, 2, 0), (1, 2, 0), (1, 2, 0), (1, 2, 0), (1, 2, 0), (1, 2, 0), (1, 2, 0), (1, 2, 0), (1, 2, 0), (1, 2, 0), (1, 2, 0), (1, 2, 0), (1, 2, 0), (1, 2, 0), (1, 2, 0), (1, 2, 0), (1, 2, 0), (1, 2, 0), (1, 2, 0), (1, 2, 0), (1, 2, 0), (1, 2, 0), (1, 2, 0), (1, 2, 0), (1, 2, 0), (1, 2, 0), (1, 2, 0), (1, 2, 0), (1, 2, 0), (1, 2, 0), (1, 2, 0), (1, 2, 0), (1, 2, 0), (1, 2, 0), (1, 2, 0), (1, 2, 0), (1, 2, 0), (1, 2, 0), (1, 2, 0), (1, 2, 0), (1, 2, 0), (1, 2, 0), (1, 2, 0), (1, 2, 0), (1, 2, 0), (1, 2, 0), (1, 2, 0), (1, 2, 0), (1, 2, 0), (1, 2, 0), (1, 2, 0), (1, 2, 0), (1, 2, 0), (1, 2, 0), (1, 2, 0), (2, 0, 0), (2, 0, 0), (2, 0, 0), (2, 0, 0), (2, 0, 0), (2, 0, 0), (2, 0, 0), (2, 0, 0), (2, 0, 0), (2, 0, 0), (2, 0, 0), (2, 0, 0), (2, 0, 0), (2, 0, 0), (2, 0, 0), (2, 0, 0), (2, 0, 0), (2, 0, 0), (2, 0, 0), (2, 0, 0), (2, 0, 0), (2, 0, 0), (2, 0, 0), (2, 0, 0), (2, 0, 0), (2, 0, 0), (2, 0, 0), (2, 0, 0), (2, 0, 0), (2, 0, 0), (2, 0, 0), (2, 0, 0), (2, 0, 0), (2, 0, 0), (2, 0, 0), (2, 0, 0), (2, 0, 0), (2, 0, 0), (2, 0, 0), (2, 0, 0), (2, 0, 0), (2, 0, 0), (2, 0, 0), (2, 0, 0), (2, 0, 0), (2, 0, 0), (2, 0, 0), (2, 0, 0), (2, 0, 0), (2, 0, 0), (2, 0, 0), (2, 0, 0), (2, 0, 0), (2, 0, 0), (2, 0, 0), (2, 0, 0), (2, 0, 0), (2, 0, 0), (2, 0, 0), (2, 0, 0), (2, 1, 0), (2, 1, 0), (2, 1, 0), (2, 1, 0), (2, 1, 0), (2, 1, 0), (2, 1, 0), (2, 1, 0), (2, 1, 0), (2, 1, 0), (2, 1, 0), (2, 1, 0), (2, 1, 0), (2, 1, 0), (2, 1, 0), (2, 1, 0), (2, 1, 0), (2, 1, 0), (2, 1, 0), (2, 1, 0), (2, 1, 0), (2, 1, 0), (2, 1, 0), (2, 1, 0), (2, 1, 0), (2, 1, 0), (2, 1, 0), (2, 1, 0), (2, 1, 0), (2, 1, 0), (2, 1, 0), (2, 1, 0), (2, 1, 0), (2, 1, 0), (2, 1, 0), (2, 1, 0), (2, 1, 0), (2, 1, 0), (2, 1, 0), (2, 1, 0), (2, 1, 0), (2, 1, 0), (2, 1, 0), (2, 1, 0), (2, 1, 0), (2, 1, 0), (2, 1, 0), (2, 1, 0), (2, 1, 0), (2, 1, 0), (2, 1, 0), (2, 1, 0), (2, 1, 0), (2, 1, 0), (2, 1, 0), (2, 1, 0), (2, 1, 0), (2, 1, 0), (2, 1, 0), (2, 1, 0), (2, 2, 0), (2, 2, 0), (2, 2, 0), (2, 2, 0), (2, 2, 0), (2, 2, 0), (2, 2, 0), (2, 2, 0), (2, 2, 0), (2, 2, 0), (2, 2, 0), (2, 2, 0), (2, 2, 0), (2, 2, 0), (2, 2, 0), (2, 2, 0), (2, 2, 0), (2, 2, 0), (2, 2, 0), (2, 2, 0), (2, 2, 0), (2, 2, 0), (2, 2, 0), (2, 2, 0), (2, 2, 0), (2, 2, 0), (2, 2, 0), (2, 2, 0), (2, 2, 0), (2, 2, 0), (2, 2, 0), (2, 2, 0), (2, 2, 0), (2, 2, 0), (2, 2, 0), (2, 2, 0), (2, 2, 0), (2, 2, 0), (2, 2, 0), (2, 2, 0), (2, 2, 0), (2, 2, 0), (2, 2, 0), (2, 2, 0), (2, 2, 0), (2, 2, 0), (2, 2, 0), (2, 2, 0), (2, 2, 0), (2, 2, 0), (2, 2, 0), (2, 2, 0), (2, 2, 0), (2, 2, 0), (2, 2, 0), (2, 2, 0), (2, 2, 0), (2, 2, 0), (2, 2, 0), (2, 2, 0), (0, 0, 1), (0, 0, 1), (0, 0, 1), (0, 0, 1), (0, 0, 1), (0, 0, 1), (0, 0, 1), (0, 0, 1), (0, 0, 1), (0, 0, 1), (0, 0, 1), (0, 0, 1), (0, 0, 1), (0, 0, 1), (0, 0, 1), (0, 0, 1), (0, 0, 1), (0, 0, 1), (0, 0, 1), (0, 0, 1), (0, 0, 1), (0, 0, 1), (0, 0, 1), (0, 0, 1), (0, 0, 1), (0, 0, 1), (0, 0, 1), (0, 0, 1), (0, 0, 1), (0, 0, 1), (0, 0, 1), (0, 0, 1), (0, 0, 1), (0, 0, 1), (0, 0, 1), (0, 0, 1), (0, 0, 1), (0, 0, 1), (0, 0, 1), (0, 0, 1), (0, 0, 1), (0, 0, 1), (0, 0, 1), (0, 0, 1), (0, 0, 1), (0, 0, 1), (0, 0, 1), (0, 0, 1), (0, 0, 1), (0, 0, 1), (0, 0, 1), (0, 0, 1), (0, 0, 1), (0, 0, 1), (0, 0, 1), (0, 0, 1), (0, 0, 1), (0, 0, 1), (0, 0, 1), (0, 0, 1), (0, 1, 1), (0, 1, 1), (0, 1, 1), (0, 1, 1), (0, 1, 1), (0, 1, 1), (0, 1, 1), (0, 1, 1), (0, 1, 1), (0, 1, 1), (0, 1, 1), (0, 1, 1), (0, 1, 1), (0, 1, 1), (0, 1, 1), (0, 1, 1), (0, 1, 1), (0, 1, 1), (0, 1, 1), (0, 1, 1), (0, 1, 1), (0, 1, 1), (0, 1, 1), (0, 1, 1), (0, 1, 1), (0, 1, 1), (0, 1, 1), (0, 1, 1), (0, 1, 1), (0, 1, 1), (0, 1, 1), (0, 1, 1), (0, 1, 1), (0, 1, 1), (0, 1, 1), (0, 1, 1), (0, 1, 1), (0, 1, 1), (0, 1, 1), (0, 1, 1), (0, 1, 1), (0, 1, 1), (0, 1, 1), (0, 1, 1), (0, 1, 1), (0, 1, 1), (0, 1, 1), (0, 1, 1), (0, 1, 1), (0, 1, 1), (0, 1, 1), (0, 1, 1), (0, 1, 1), (0, 1, 1), (0, 1, 1), (0, 1, 1), (0, 1, 1), (0, 1, 1), (0, 1, 1), (0, 1, 1), (0, 2, 1), (0, 2, 1), (0, 2, 1), (0, 2, 1), (0, 2, 1), (0, 2, 1), (0, 2, 1), (0, 2, 1), (0, 2, 1), (0, 2, 1), (0, 2, 1), (0, 2, 1), (0, 2, 1), (0, 2, 1), (0, 2, 1), (0, 2, 1), (0, 2, 1), (0, 2, 1), (0, 2, 1), (0, 2, 1), (0, 2, 1), (0, 2, 1), (0, 2, 1), (0, 2, 1), (0, 2, 1), (0, 2, 1), (0, 2, 1), (0, 2, 1), (0, 2, 1), (0, 2, 1), (0, 2, 1), (0, 2, 1), (0, 2, 1), (0, 2, 1), (0, 2, 1), (0, 2, 1), (0, 2, 1), (0, 2, 1), (0, 2, 1), (0, 2, 1), (0, 2, 1), (0, 2, 1), (0, 2, 1), (0, 2, 1), (0, 2, 1), (0, 2, 1), (0, 2, 1), (0, 2, 1), (0, 2, 1), (0, 2, 1), (0, 2, 1), (0, 2, 1), (0, 2, 1), (0, 2, 1), (0, 2, 1), (0, 2, 1), (0, 2, 1), (0, 2, 1), (0, 2, 1), (0, 2, 1), (1, 0, 1), (1, 0, 1), (1, 0, 1), (1, 0, 1), (1, 0, 1), (1, 0, 1), (1, 0, 1), (1, 0, 1), (1, 0, 1), (1, 0, 1), (1, 0, 1), (1, 0, 1), (1, 0, 1), (1, 0, 1), (1, 0, 1), (1, 0, 1), (1, 0, 1), (1, 0, 1), (1, 0, 1), (1, 0, 1), (1, 0, 1), (1, 0, 1), (1, 0, 1), (1, 0, 1), (1, 0, 1), (1, 0, 1), (1, 0, 1), (1, 0, 1), (1, 0, 1), (1, 0, 1), (1, 0, 1), (1, 0, 1), (1, 0, 1), (1, 0, 1), (1, 0, 1), (1, 0, 1), (1, 0, 1), (1, 0, 1), (1, 0, 1), (1, 0, 1), (1, 0, 1), (1, 0, 1), (1, 0, 1), (1, 0, 1), (1, 0, 1), (1, 0, 1), (1, 0, 1), (1, 0, 1), (1, 0, 1), (1, 0, 1), (1, 0, 1), (1, 0, 1), (1, 0, 1), (1, 0, 1), (1, 0, 1), (1, 0, 1), (1, 0, 1), (1, 0, 1), (1, 0, 1), (1, 0, 1), (1, 1, 1), (1, 1, 1), (1, 1, 1), (1, 1, 1), (1, 1, 1), (1, 1, 1), (1, 1, 1), (1, 1, 1), (1, 1, 1), (1, 1, 1), (1, 1, 1), (1, 1, 1), (1, 1, 1), (1, 1, 1), (1, 1, 1), (1, 1, 1), (1, 1, 1), (1, 1, 1), (1, 1, 1), (1, 1, 1), (1, 1, 1), (1, 1, 1), (1, 1, 1), (1, 1, 1), (1, 1, 1), (1, 1, 1), (1, 1, 1), (1, 1, 1), (1, 1, 1), (1, 1, 1), (1, 1, 1), (1, 1, 1), (1, 1, 1), (1, 1, 1), (1, 1, 1), (1, 1, 1), (1, 1, 1), (1, 1, 1), (1, 1, 1), (1, 1, 1), (1, 1, 1), (1, 1, 1), (1, 1, 1), (1, 1, 1), (1, 1, 1), (1, 1, 1), (1, 1, 1), (1, 1, 1), (1, 1, 1), (1, 1, 1), (1, 1, 1), (1, 1, 1), (1, 1, 1), (1, 1, 1), (1, 1, 1), (1, 1, 1), (1, 1, 1), (1, 1, 1), (1, 1, 1), (1, 1, 1), (1, 2, 1), (1, 2, 1), (1, 2, 1), (1, 2, 1), (1, 2, 1), (1, 2, 1), (1, 2, 1), (1, 2, 1), (1, 2, 1), (1, 2, 1), (1, 2, 1), (1, 2, 1), (1, 2, 1), (1, 2, 1), (1, 2, 1), (1, 2, 1), (1, 2, 1), (1, 2, 1), (1, 2, 1), (1, 2, 1), (1, 2, 1), (1, 2, 1), (1, 2, 1), (1, 2, 1), (1, 2, 1), (1, 2, 1), (1, 2, 1), (1, 2, 1), (1, 2, 1), (1, 2, 1), (1, 2, 1), (1, 2, 1), (1, 2, 1), (1, 2, 1), (1, 2, 1), (1, 2, 1), (1, 2, 1), (1, 2, 1), (1, 2, 1), (1, 2, 1), (1, 2, 1), (1, 2, 1), (1, 2, 1), (1, 2, 1), (1, 2, 1), (1, 2, 1), (1, 2, 1), (1, 2, 1), (1, 2, 1), (1, 2, 1), (1, 2, 1), (1, 2, 1), (1, 2, 1), (1, 2, 1), (1, 2, 1), (1, 2, 1), (1, 2, 1), (1, 2, 1), (1, 2, 1), (1, 2, 1), (2, 0, 1), (2, 0, 1), (2, 0, 1), (2, 0, 1), (2, 0, 1), (2, 0, 1), (2, 0, 1), (2, 0, 1), (2, 0, 1), (2, 0, 1), (2, 0, 1), (2, 0, 1), (2, 0, 1), (2, 0, 1), (2, 0, 1), (2, 0, 1), (2, 0, 1), (2, 0, 1), (2, 0, 1), (2, 0, 1), (2, 0, 1), (2, 0, 1), (2, 0, 1), (2, 0, 1), (2, 0, 1), (2, 0, 1), (2, 0, 1), (2, 0, 1), (2, 0, 1), (2, 0, 1), (2, 0, 1), (2, 0, 1), (2, 0, 1), (2, 0, 1), (2, 0, 1), (2, 0, 1), (2, 0, 1), (2, 0, 1), (2, 0, 1), (2, 0, 1), (2, 0, 1), (2, 0, 1), (2, 0, 1), (2, 0, 1), (2, 0, 1), (2, 0, 1), (2, 0, 1), (2, 0, 1), (2, 0, 1), (2, 0, 1), (2, 0, 1), (2, 0, 1), (2, 0, 1), (2, 0, 1), (2, 0, 1), (2, 0, 1), (2, 0, 1), (2, 0, 1), (2, 0, 1), (2, 0, 1), (2, 1, 1), (2, 1, 1), (2, 1, 1), (2, 1, 1), (2, 1, 1), (2, 1, 1), (2, 1, 1), (2, 1, 1), (2, 1, 1), (2, 1, 1), (2, 1, 1), (2, 1, 1), (2, 1, 1), (2, 1, 1), (2, 1, 1), (2, 1, 1), (2, 1, 1), (2, 1, 1), (2, 1, 1), (2, 1, 1), (2, 1, 1), (2, 1, 1), (2, 1, 1), (2, 1, 1), (2, 1, 1), (2, 1, 1), (2, 1, 1), (2, 1, 1), (2, 1, 1), (2, 1, 1), (2, 1, 1), (2, 1, 1), (2, 1, 1), (2, 1, 1), (2, 1, 1), (2, 1, 1), (2, 1, 1), (2, 1, 1), (2, 1, 1), (2, 1, 1), (2, 1, 1), (2, 1, 1), (2, 1, 1), (2, 1, 1), (2, 1, 1), (2, 1, 1), (2, 1, 1), (2, 1, 1), (2, 1, 1), (2, 1, 1), (2, 1, 1), (2, 1, 1), (2, 1, 1), (2, 1, 1), (2, 1, 1), (2, 1, 1), (2, 1, 1), (2, 1, 1), (2, 1, 1), (2, 1, 1), (2, 2, 1), (2, 2, 1), (2, 2, 1), (2, 2, 1), (2, 2, 1), (2, 2, 1), (2, 2, 1), (2, 2, 1), (2, 2, 1), (2, 2, 1), (2, 2, 1), (2, 2, 1), (2, 2, 1), (2, 2, 1), (2, 2, 1), (2, 2, 1), (2, 2, 1), (2, 2, 1), (2, 2, 1), (2, 2, 1), (2, 2, 1), (2, 2, 1), (2, 2, 1), (2, 2, 1), (2, 2, 1), (2, 2, 1), (2, 2, 1), (2, 2, 1), (2, 2, 1), (2, 2, 1), (2, 2, 1), (2, 2, 1), (2, 2, 1), (2, 2, 1), (2, 2, 1), (2, 2, 1), (2, 2, 1), (2, 2, 1), (2, 2, 1), (2, 2, 1), (2, 2, 1), (2, 2, 1), (2, 2, 1), (2, 2, 1), (2, 2, 1), (2, 2, 1), (2, 2, 1), (2, 2, 1), (2, 2, 1), (2, 2, 1), (2, 2, 1), (2, 2, 1), (2, 2, 1), (2, 2, 1), (2, 2, 1), (2, 2, 1), (2, 2, 1), (2, 2, 1), (2, 2, 1), (2, 2, 1), (0, 0, 2), (0, 0, 2), (0, 0, 2), (0, 0, 2), (0, 0, 2), (0, 0, 2), (0, 0, 2), (0, 0, 2), (0, 0, 2), (0, 0, 2), (0, 0, 2), (0, 0, 2), (0, 0, 2), (0, 0, 2), (0, 0, 2), (0, 0, 2), (0, 0, 2), (0, 0, 2), (0, 0, 2), (0, 0, 2), (0, 0, 2), (0, 0, 2), (0, 0, 2), (0, 0, 2), (0, 0, 2), (0, 0, 2), (0, 0, 2), (0, 0, 2), (0, 0, 2), (0, 0, 2), (0, 0, 2), (0, 0, 2), (0, 0, 2), (0, 0, 2), (0, 0, 2), (0, 0, 2), (0, 0, 2), (0, 0, 2), (0, 0, 2), (0, 0, 2), (0, 0, 2), (0, 0, 2), (0, 0, 2), (0, 0, 2), (0, 0, 2), (0, 0, 2), (0, 0, 2), (0, 0, 2), (0, 0, 2), (0, 0, 2), (0, 0, 2), (0, 0, 2), (0, 0, 2), (0, 0, 2), (0, 0, 2), (0, 0, 2), (0, 0, 2), (0, 0, 2), (0, 0, 2), (0, 0, 2), (0, 1, 2), (0, 1, 2), (0, 1, 2), (0, 1, 2), (0, 1, 2), (0, 1, 2), (0, 1, 2), (0, 1, 2), (0, 1, 2), (0, 1, 2), (0, 1, 2), (0, 1, 2), (0, 1, 2), (0, 1, 2), (0, 1, 2), (0, 1, 2), (0, 1, 2), (0, 1, 2), (0, 1, 2), (0, 1, 2), (0, 1, 2), (0, 1, 2), (0, 1, 2), (0, 1, 2), (0, 1, 2), (0, 1, 2), (0, 1, 2), (0, 1, 2), (0, 1, 2), (0, 1, 2), (0, 1, 2), (0, 1, 2), (0, 1, 2), (0, 1, 2), (0, 1, 2), (0, 1, 2), (0, 1, 2), (0, 1, 2), (0, 1, 2), (0, 1, 2), (0, 1, 2), (0, 1, 2), (0, 1, 2), (0, 1, 2), (0, 1, 2), (0, 1, 2), (0, 1, 2), (0, 1, 2), (0, 1, 2), (0, 1, 2), (0, 1, 2), (0, 1, 2), (0, 1, 2), (0, 1, 2), (0, 1, 2), (0, 1, 2), (0, 1, 2), (0, 1, 2), (0, 1, 2), (0, 1, 2), (0, 2, 2), (0, 2, 2), (0, 2, 2), (0, 2, 2), (0, 2, 2), (0, 2, 2), (0, 2, 2), (0, 2, 2), (0, 2, 2), (0, 2, 2), (0, 2, 2), (0, 2, 2), (0, 2, 2), (0, 2, 2), (0, 2, 2), (0, 2, 2), (0, 2, 2), (0, 2, 2), (0, 2, 2), (0, 2, 2), (0, 2, 2), (0, 2, 2), (0, 2, 2), (0, 2, 2), (0, 2, 2), (0, 2, 2), (0, 2, 2), (0, 2, 2), (0, 2, 2), (0, 2, 2), (0, 2, 2), (0, 2, 2), (0, 2, 2), (0, 2, 2), (0, 2, 2), (0, 2, 2), (0, 2, 2), (0, 2, 2), (0, 2, 2), (0, 2, 2), (0, 2, 2), (0, 2, 2), (0, 2, 2), (0, 2, 2), (0, 2, 2), (0, 2, 2), (0, 2, 2), (0, 2, 2), (0, 2, 2), (0, 2, 2), (0, 2, 2), (0, 2, 2), (0, 2, 2), (0, 2, 2), (0, 2, 2), (0, 2, 2), (0, 2, 2), (0, 2, 2), (0, 2, 2), (0, 2, 2), (1, 0, 2), (1, 0, 2), (1, 0, 2), (1, 0, 2), (1, 0, 2), (1, 0, 2), (1, 0, 2), (1, 0, 2), (1, 0, 2), (1, 0, 2), (1, 0, 2), (1, 0, 2), (1, 0, 2), (1, 0, 2), (1, 0, 2), (1, 0, 2), (1, 0, 2), (1, 0, 2), (1, 0, 2), (1, 0, 2), (1, 0, 2), (1, 0, 2), (1, 0, 2), (1, 0, 2), (1, 0, 2), (1, 0, 2), (1, 0, 2), (1, 0, 2), (1, 0, 2), (1, 0, 2), (1, 0, 2), (1, 0, 2), (1, 0, 2), (1, 0, 2), (1, 0, 2), (1, 0, 2), (1, 0, 2), (1, 0, 2), (1, 0, 2), (1, 0, 2), (1, 0, 2), (1, 0, 2), (1, 0, 2), (1, 0, 2), (1, 0, 2), (1, 0, 2), (1, 0, 2), (1, 0, 2), (1, 0, 2), (1, 0, 2), (1, 0, 2), (1, 0, 2), (1, 0, 2), (1, 0, 2), (1, 0, 2), (1, 0, 2), (1, 0, 2), (1, 0, 2), (1, 0, 2), (1, 0, 2), (1, 1, 2), (1, 1, 2), (1, 1, 2), (1, 1, 2), (1, 1, 2), (1, 1, 2), (1, 1, 2), (1, 1, 2), (1, 1, 2), (1, 1, 2), (1, 1, 2), (1, 1, 2), (1, 1, 2), (1, 1, 2), (1, 1, 2), (1, 1, 2), (1, 1, 2), (1, 1, 2), (1, 1, 2), (1, 1, 2), (1, 1, 2), (1, 1, 2), (1, 1, 2), (1, 1, 2), (1, 1, 2), (1, 1, 2), (1, 1, 2), (1, 1, 2), (1, 1, 2), (1, 1, 2), (1, 1, 2), (1, 1, 2), (1, 1, 2), (1, 1, 2), (1, 1, 2), (1, 1, 2), (1, 1, 2), (1, 1, 2), (1, 1, 2), (1, 1, 2), (1, 1, 2), (1, 1, 2), (1, 1, 2), (1, 1, 2), (1, 1, 2), (1, 1, 2), (1, 1, 2), (1, 1, 2), (1, 1, 2), (1, 1, 2), (1, 1, 2), (1, 1, 2), (1, 1, 2), (1, 1, 2), (1, 1, 2), (1, 1, 2), (1, 1, 2), (1, 1, 2), (1, 1, 2), (1, 1, 2), (1, 2, 2), (1, 2, 2), (1, 2, 2), (1, 2, 2), (1, 2, 2), (1, 2, 2), (1, 2, 2), (1, 2, 2), (1, 2, 2), (1, 2, 2), (1, 2, 2), (1, 2, 2), (1, 2, 2), (1, 2, 2), (1, 2, 2), (1, 2, 2), (1, 2, 2), (1, 2, 2), (1, 2, 2), (1, 2, 2), (1, 2, 2), (1, 2, 2), (1, 2, 2), (1, 2, 2), (1, 2, 2), (1, 2, 2), (1, 2, 2), (1, 2, 2), (1, 2, 2), (1, 2, 2), (1, 2, 2), (1, 2, 2), (1, 2, 2), (1, 2, 2), (1, 2, 2), (1, 2, 2), (1, 2, 2), (1, 2, 2), (1, 2, 2), (1, 2, 2), (1, 2, 2), (1, 2, 2), (1, 2, 2), (1, 2, 2), (1, 2, 2), (1, 2, 2), (1, 2, 2), (1, 2, 2), (1, 2, 2), (1, 2, 2), (1, 2, 2), (1, 2, 2), (1, 2, 2), (1, 2, 2), (1, 2, 2), (1, 2, 2), (1, 2, 2), (1, 2, 2), (1, 2, 2), (1, 2, 2), (2, 0, 2), (2, 0, 2), (2, 0, 2), (2, 0, 2), (2, 0, 2), (2, 0, 2), (2, 0, 2), (2, 0, 2), (2, 0, 2), (2, 0, 2), (2, 0, 2), (2, 0, 2), (2, 0, 2), (2, 0, 2), (2, 0, 2), (2, 0, 2), (2, 0, 2), (2, 0, 2), (2, 0, 2), (2, 0, 2), (2, 0, 2), (2, 0, 2), (2, 0, 2), (2, 0, 2), (2, 0, 2), (2, 0, 2), (2, 0, 2), (2, 0, 2), (2, 0, 2), (2, 0, 2), (2, 0, 2), (2, 0, 2), (2, 0, 2), (2, 0, 2), (2, 0, 2), (2, 0, 2), (2, 0, 2), (2, 0, 2), (2, 0, 2), (2, 0, 2), (2, 0, 2), (2, 0, 2), (2, 0, 2), (2, 0, 2), (2, 0, 2), (2, 0, 2), (2, 0, 2), (2, 0, 2), (2, 0, 2), (2, 0, 2), (2, 0, 2), (2, 0, 2), (2, 0, 2), (2, 0, 2), (2, 0, 2), (2, 0, 2), (2, 0, 2), (2, 0, 2), (2, 0, 2), (2, 0, 2), (2, 1, 2), (2, 1, 2), (2, 1, 2), (2, 1, 2), (2, 1, 2), (2, 1, 2), (2, 1, 2), (2, 1, 2), (2, 1, 2), (2, 1, 2), (2, 1, 2), (2, 1, 2), (2, 1, 2), (2, 1, 2), (2, 1, 2), (2, 1, 2), (2, 1, 2), (2, 1, 2), (2, 1, 2), (2, 1, 2), (2, 1, 2), (2, 1, 2), (2, 1, 2), (2, 1, 2), (2, 1, 2), (2, 1, 2), (2, 1, 2), (2, 1, 2), (2, 1, 2), (2, 1, 2), (2, 1, 2), (2, 1, 2), (2, 1, 2), (2, 1, 2), (2, 1, 2), (2, 1, 2), (2, 1, 2), (2, 1, 2), (2, 1, 2), (2, 1, 2), (2, 1, 2), (2, 1, 2), (2, 1, 2), (2, 1, 2), (2, 1, 2), (2, 1, 2), (2, 1, 2), (2, 1, 2), (2, 1, 2), (2, 1, 2), (2, 1, 2), (2, 1, 2), (2, 1, 2), (2, 1, 2), (2, 1, 2), (2, 1, 2), (2, 1, 2), (2, 1, 2), (2, 1, 2), (2, 1, 2), (2, 2, 2), (2, 2, 2), (2, 2, 2), (2, 2, 2), (2, 2, 2), (2, 2, 2), (2, 2, 2), (2, 2, 2), (2, 2, 2), (2, 2, 2), (2, 2, 2), (2, 2, 2), (2, 2, 2), (2, 2, 2), (2, 2, 2), (2, 2, 2), (2, 2, 2), (2, 2, 2), (2, 2, 2), (2, 2, 2), (2, 2, 2), (2, 2, 2), (2, 2, 2), (2, 2, 2), (2, 2, 2), (2, 2, 2), (2, 2, 2), (2, 2, 2), (2, 2, 2), (2, 2, 2), (2, 2, 2), (2, 2, 2), (2, 2, 2), (2, 2, 2), (2, 2, 2), (2, 2, 2), (2, 2, 2), (2, 2, 2), (2, 2, 2), (2, 2, 2), (2, 2, 2), (2, 2, 2), (2, 2, 2), (2, 2, 2), (2, 2, 2), (2, 2, 2), (2, 2, 2), (2, 2, 2), (2, 2, 2), (2, 2, 2), (2, 2, 2), (2, 2, 2), (2, 2, 2), (2, 2, 2), (2, 2, 2), (2, 2, 2), (2, 2, 2), (2, 2, 2), (2, 2, 2), (2, 2, 2)]\n",
            "[0.17083333333333334, 0.18333333333333332, 0.15624999999999997, 0.28541666666666665, 0.3020833333333333, 0.26666666666666666]\n"
          ]
        }
      ]
    },
    {
      "cell_type": "code",
      "source": [
        "print(df.loc[(df['smoke_inter'] == 2) | (df['alc_inter'] == 2) | (df['mh_inter']==2), 'treatment_outcomes'].value_counts(normalize=True)[1]) #7%\n",
        "print(df.loc[(df['smoke_inter'] == 2) & (df['alc_inter'] == 2) & (df['mh_inter']==1), 'treatment_outcomes'].value_counts(normalize=True)[1]) #10\n",
        "print(df.loc[(df['smoke_inter'] == 2) & (df['alc_inter'] == 1) & (df['mh_inter']==2), 'treatment_outcomes'].value_counts(normalize=True)[1]) #10\n",
        "print(df.loc[(df['smoke_inter'] == 0) & (df['alc_inter'] == 0) & (df['mh_inter']==2), 'treatment_outcomes'].value_counts(normalize=True)[1]) #6\n",
        "print(df.loc[(df['smoke_inter'] == 2) & (df['alc_inter'] == 2) & (df['mh_inter']==1), 'treatment_outcomes'].value_counts(normalize=True)[1]) #10\n",
        "print(df.loc[(df['smoke_inter'] == 0) & (df['alc_inter'] == 0) & (df['mh_inter']==2), 'treatment_outcomes'].value_counts(normalize=True)[1]) #6\n",
        "print(df.loc[(df['smoke_inter'] == 1) & (df['alc_inter'] == 1) & (df['mh_inter']==1), 'treatment_outcomes'].value_counts(normalize=True)[1])  #14\n",
        "print(df.loc[(df['smoke_inter'] == 0) & (df['alc_inter'] == 0) & (df['mh_inter']==1), 'treatment_outcomes'].value_counts(normalize=True)[1]) #12\n",
        "print(df.loc[(df['smoke_inter'] == 1) & (df['alc_inter'] == 0) & (df['mh_inter']==0), 'treatment_outcomes'].value_counts(normalize=True)[1]) #12"
      ],
      "metadata": {
        "colab": {
          "base_uri": "https://localhost:8080/"
        },
        "id": "BLIHnU4-mUH_",
        "outputId": "262f8c8f-c9ef-4968-df8e-febacc24ff5c"
      },
      "execution_count": null,
      "outputs": [
        {
          "output_type": "stream",
          "name": "stdout",
          "text": [
            "0.09298245614035087\n",
            "0.08333333333333333\n",
            "0.13333333333333333\n",
            "0.06666666666666667\n",
            "0.08333333333333333\n",
            "0.06666666666666667\n",
            "0.16666666666666666\n",
            "0.11666666666666667\n",
            "0.15\n"
          ]
        }
      ]
    },
    {
      "cell_type": "markdown",
      "source": [
        "# **Clinical_Function**"
      ],
      "metadata": {
        "id": "dn6sfQ-8Ynr6"
      }
    },
    {
      "cell_type": "code",
      "source": [
        "power_analysis=TTestIndPower()\n",
        "def calculate_power1(x, y, df):\n",
        "    power_analysis=TTestIndPower()\n",
        "    treatment_arr=[]\n",
        "    control_arr=[]\n",
        "    treatment_locs=np.where((df['smoke_inter']==x))\n",
        "    control_locs=np.where((df['smoke_inter']==y))\n",
        "    for i in treatment_locs:\n",
        "        treatment_arr.append(df['treatment_smoke'].iloc[i])\n",
        "    for j in control_locs:\n",
        "        control_arr.append(df['treatment_smoke'].iloc[j])\n",
        "    l1 = len(treatment_arr[0])\n",
        "    l2 = len(control_arr[0])\n",
        "    index_treatment=np.arange(0,l1)\n",
        "    index_control=np.arange(0,l2)\n",
        "    treatment_df=pd.DataFrame({'idx':index_treatment,\"Treatment\":treatment_arr[0]})\n",
        "    control_df=pd.DataFrame({'idx':index_control,\"Control\":control_arr[0]})\n",
        "    mu1=treatment_df['Treatment'].mean()\n",
        "    mu2=control_df['Control'].mean()\n",
        "    std1=treatment_df['Treatment'].std()\n",
        "    std2=control_df['Control'].std()\n",
        "    s = np.sqrt(((l1 - 1) * std1 + (l2 - 1) * std2) / (l1 + l2 - 2))\n",
        "    d = (mu1 - mu2) / s #cohen's effect size\n",
        "    eff = round(d,2)\n",
        "    p = power_analysis.power(effect_size=eff,alpha=0.05,nobs1=l1,ratio=(l1/l2),alternative='two-sided')\n",
        "    return p"
      ],
      "metadata": {
        "id": "GP6uuOzoE755"
      },
      "execution_count": null,
      "outputs": []
    },
    {
      "cell_type": "code",
      "source": [
        "power_analysis=TTestIndPower()\n",
        "def calculate_power2(x, y, df):\n",
        "    power_analysis=TTestIndPower()\n",
        "    treatment_arr=[]\n",
        "    control_arr=[]\n",
        "    treatment_locs=np.where((df['alc_inter']==x))\n",
        "    control_locs=np.where((df['alc_inter']==y))\n",
        "    for i in treatment_locs:\n",
        "        treatment_arr.append(df['treatment_alc'].iloc[i])\n",
        "    for j in control_locs:\n",
        "        control_arr.append(df['treatment_alc'].iloc[j])\n",
        "    l1 = len(treatment_arr[0])\n",
        "    l2 = len(control_arr[0])\n",
        "    index_treatment=np.arange(0,l1)\n",
        "    index_control=np.arange(0,l2)\n",
        "    treatment_df=pd.DataFrame({'idx':index_treatment,\"Treatment\":treatment_arr[0]})\n",
        "    control_df=pd.DataFrame({'idx':index_control,\"Control\":control_arr[0]})\n",
        "    mu1=treatment_df['Treatment'].mean()\n",
        "    mu2=control_df['Control'].mean()\n",
        "    std1=treatment_df['Treatment'].std()\n",
        "    std2=control_df['Control'].std()\n",
        "    s = np.sqrt(((l1 - 1) * std1 + (l2 - 1) * std2) / (l1 + l2 - 2))\n",
        "    d = (mu1 - mu2) / s #cohen's effect size\n",
        "    eff = round(d,2)\n",
        "    p = power_analysis.power(effect_size=eff,alpha=0.05,nobs1=l1,ratio=(l1/l2),alternative='two-sided')\n",
        "    return p"
      ],
      "metadata": {
        "id": "yvOqMaZ5E72Q"
      },
      "execution_count": null,
      "outputs": []
    },
    {
      "cell_type": "code",
      "source": [
        "power_analysis=TTestIndPower()\n",
        "def calculate_power3(x, y, df):\n",
        "    power_analysis=TTestIndPower()\n",
        "    treatment_arr=[]\n",
        "    control_arr=[]\n",
        "    treatment_locs=np.where((df['mh_inter']==x))\n",
        "    control_locs=np.where((df['mh_inter']==y))\n",
        "    for i in treatment_locs:\n",
        "        treatment_arr.append(df['treatment_mh'].iloc[i])\n",
        "    for j in control_locs:\n",
        "        control_arr.append(df['treatment_mh'].iloc[j])\n",
        "    l1 = len(treatment_arr[0])\n",
        "    l2 = len(control_arr[0])\n",
        "    index_treatment=np.arange(0,l1)\n",
        "    index_control=np.arange(0,l2)\n",
        "    treatment_df=pd.DataFrame({'idx':index_treatment,\"Treatment\":treatment_arr[0]})\n",
        "    control_df=pd.DataFrame({'idx':index_control,\"Control\":control_arr[0]})\n",
        "    mu1=treatment_df['Treatment'].mean()\n",
        "    mu2=control_df['Control'].mean()\n",
        "    std1=treatment_df['Treatment'].std()\n",
        "    std2=control_df['Control'].std()\n",
        "    s = np.sqrt(((l1 - 1) * std1 + (l2 - 1) * std2) / (l1 + l2 - 2))\n",
        "    d = (mu1 - mu2) / s #cohen's effect size\n",
        "    eff = round(d,2)\n",
        "    p = power_analysis.power(effect_size=eff,alpha=0.05,nobs1=l1,ratio=(l1/l2),alternative='two-sided')\n",
        "    return p"
      ],
      "metadata": {
        "id": "K9VzKhtUE7zc"
      },
      "execution_count": null,
      "outputs": []
    },
    {
      "cell_type": "code",
      "source": [
        "df.shape[0]"
      ],
      "metadata": {
        "colab": {
          "base_uri": "https://localhost:8080/"
        },
        "id": "s26rIkTiWXVa",
        "outputId": "29860e50-0506-43c6-fd8a-a2f4cf4ee6ca"
      },
      "execution_count": null,
      "outputs": [
        {
          "output_type": "execute_result",
          "data": {
            "text/plain": [
              "1560"
            ]
          },
          "metadata": {},
          "execution_count": 8
        }
      ]
    },
    {
      "cell_type": "code",
      "source": [
        "calculate_power1(2, 1, dfx)"
      ],
      "metadata": {
        "colab": {
          "base_uri": "https://localhost:8080/",
          "height": 166
        },
        "id": "V3ph_mlnWqgW",
        "outputId": "7637c446-592a-4091-a52a-a290a2df3608"
      },
      "execution_count": null,
      "outputs": [
        {
          "output_type": "error",
          "ename": "NameError",
          "evalue": "ignored",
          "traceback": [
            "\u001b[0;31m---------------------------------------------------------------------------\u001b[0m",
            "\u001b[0;31mNameError\u001b[0m                                 Traceback (most recent call last)",
            "\u001b[0;32m<ipython-input-9-a195568c87fa>\u001b[0m in \u001b[0;36m<module>\u001b[0;34m\u001b[0m\n\u001b[0;32m----> 1\u001b[0;31m \u001b[0mcalculate_power1\u001b[0m\u001b[0;34m(\u001b[0m\u001b[0;36m2\u001b[0m\u001b[0;34m,\u001b[0m \u001b[0;36m1\u001b[0m\u001b[0;34m,\u001b[0m \u001b[0mdfx\u001b[0m\u001b[0;34m)\u001b[0m\u001b[0;34m\u001b[0m\u001b[0;34m\u001b[0m\u001b[0m\n\u001b[0m",
            "\u001b[0;31mNameError\u001b[0m: name 'dfx' is not defined"
          ]
        }
      ]
    },
    {
      "cell_type": "code",
      "source": [
        "calculate_power2(2, 1, dfx)"
      ],
      "metadata": {
        "id": "6GrTiY4DWqdF"
      },
      "execution_count": null,
      "outputs": []
    },
    {
      "cell_type": "code",
      "source": [
        "calculate_power3(2, 1, dfx)"
      ],
      "metadata": {
        "id": "Eck21iTVWqaK"
      },
      "execution_count": null,
      "outputs": []
    },
    {
      "cell_type": "code",
      "source": [
        "def try_sample_size(df):\n",
        "  sample_sizes = {}\n",
        "  sample_sizes['psmoke'] = calculate_power1(2, 1, df) #calculate power function\n",
        "  sample_sizes['palc'] = calculate_power2(2, 1, df)\n",
        "  sample_sizes['pmh'] = calculate_power3(2, 1, df)\n",
        "\n",
        "  size = round(df.shape[0]/26)\n",
        "  all_above_threshold = all(value >= 0.80 for value in sample_sizes.values())\n",
        "  if not all_above_threshold:\n",
        "    if sample_sizes['psmoke'] < 0.70:\n",
        "      size += 10\n",
        "    elif sample_sizes['palc'] < 0.70:\n",
        "      size += 10\n",
        "    elif sample_sizes['pmh'] < 0.70:\n",
        "      size += 10\n",
        "\n",
        "    df = create_clinical_dataset(0.06,0.07,0.09,0.10,0.11,0.12,0.13,0.14,gender=[0.5,0.5],bmi=[0.2,0.5,0.3],edu=[0.1,0.2,0.2,0.5],ttd=[5,2],age=[18,60,35,15], size = size)   #create dataset function\n",
        "    print(sample_sizes.values()) #check sample sizes\n",
        "    return try_sample_size(df)\n",
        "\n",
        "  return df\n",
        "  #return df.to_csv('clinical_trial.csv'), df.shape[0]"
      ],
      "metadata": {
        "id": "YwUs7qzjLpuT"
      },
      "execution_count": null,
      "outputs": []
    },
    {
      "cell_type": "code",
      "source": [
        "dfx = try_sample_size(df)"
      ],
      "metadata": {
        "id": "njouF0N6Lpw3"
      },
      "execution_count": null,
      "outputs": []
    },
    {
      "cell_type": "code",
      "source": [
        "dfx.head()"
      ],
      "metadata": {
        "id": "c8iY-gq0LpzU"
      },
      "execution_count": null,
      "outputs": []
    },
    {
      "cell_type": "code",
      "source": [
        "print(dfx.loc[(dfx['smoke_inter'] == 2) & (dfx['alc_inter'] == 2) & (dfx['mh_inter']==2), 'treatment_outcomes'].value_counts(normalize=True)[1]) #7%\n",
        "print(dfx.loc[(dfx['smoke_inter'] == 2) & (dfx['alc_inter'] == 2) & (dfx['mh_inter']==1), 'treatment_outcomes'].value_counts(normalize=True)[1]) #10\n",
        "print(dfx.loc[(dfx['smoke_inter'] == 2) & (dfx['alc_inter'] == 1) & (dfx['mh_inter']==2), 'treatment_outcomes'].value_counts(normalize=True)[1]) #10\n",
        "print(dfx.loc[(dfx['smoke_inter'] == 0) & (dfx['alc_inter'] == 0) & (dfx['mh_inter']==2), 'treatment_outcomes'].value_counts(normalize=True)[1]) #6\n",
        "print(dfx.loc[(dfx['smoke_inter'] == 2) & (dfx['alc_inter'] == 2) & (dfx['mh_inter']==1), 'treatment_outcomes'].value_counts(normalize=True)[1]) #10\n",
        "print(dfx.loc[(dfx['smoke_inter'] == 0) & (dfx['alc_inter'] == 0) & (dfx['mh_inter']==2), 'treatment_outcomes'].value_counts(normalize=True)[1]) #6\n",
        "print(dfx.loc[(dfx['smoke_inter'] == 1) & (dfx['alc_inter'] == 1) & (dfx['mh_inter']==1), 'treatment_outcomes'].value_counts(normalize=True)[1]) #14\n",
        "print(dfx.loc[(dfx['smoke_inter'] == 0) & (dfx['alc_inter'] == 0) & (dfx['mh_inter']==1), 'treatment_outcomes'].value_counts(normalize=True)[1]) #12\n",
        "print(dfx.loc[(dfx['smoke_inter'] == 1) & (dfx['alc_inter'] == 0) & (dfx['mh_inter']==0), 'treatment_outcomes'].value_counts(normalize=True)[1]) #12"
      ],
      "metadata": {
        "id": "MgTRTGBXLp2H"
      },
      "execution_count": null,
      "outputs": []
    },
    {
      "cell_type": "code",
      "source": [
        "dfx.shape[0]/26"
      ],
      "metadata": {
        "id": "1zmPiXLULp4s",
        "colab": {
          "base_uri": "https://localhost:8080/"
        },
        "outputId": "7c19602a-70bb-4343-e3ed-79fe64d79428"
      },
      "execution_count": null,
      "outputs": [
        {
          "output_type": "execute_result",
          "data": {
            "text/plain": [
              "60.0"
            ]
          },
          "metadata": {},
          "execution_count": 12
        }
      ]
    },
    {
      "cell_type": "code",
      "source": [
        "dfx.to_csv('clinical_60.csv')"
      ],
      "metadata": {
        "id": "0CJHGD6MZEIM"
      },
      "execution_count": null,
      "outputs": []
    }
  ]
}