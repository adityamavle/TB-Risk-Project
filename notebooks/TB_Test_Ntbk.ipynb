{
  "nbformat": 4,
  "nbformat_minor": 0,
  "metadata": {
    "colab": {
      "provenance": [],
      "include_colab_link": true
    },
    "kernelspec": {
      "name": "python3",
      "display_name": "Python 3"
    },
    "language_info": {
      "name": "python"
    }
  },
  "cells": [
    {
      "cell_type": "markdown",
      "metadata": {
        "id": "view-in-github",
        "colab_type": "text"
      },
      "source": [
        "<a href=\"https://colab.research.google.com/github/aarushiwagh/TBInterventionAnalysis/blob/main/TB_Test_Ntbk.ipynb\" target=\"_parent\"><img src=\"https://colab.research.google.com/assets/colab-badge.svg\" alt=\"Open In Colab\"/></a>"
      ]
    },
    {
      "cell_type": "code",
      "source": [
        "import tensorflow as tf\n",
        "import scipy\n",
        "import numpy as np\n",
        "import pandas as pd\n",
        "import pprint "
      ],
      "metadata": {
        "id": "tOqPYqhm4j6K"
      },
      "execution_count": null,
      "outputs": []
    },
    {
      "cell_type": "code",
      "execution_count": null,
      "metadata": {
        "colab": {
          "base_uri": "https://localhost:8080/"
        },
        "id": "tjfo7oe83w4B",
        "outputId": "27d7757f-94d8-4326-d78e-3260d349c50f"
      },
      "outputs": [
        {
          "output_type": "stream",
          "name": "stdout",
          "text": [
            "A:\n",
            "array([[ 6,  3,  4,  8],\n",
            "       [ 3,  6,  5,  1],\n",
            "       [ 4,  5, 10,  7],\n",
            "       [ 8,  1,  7, 25]])\n",
            "array([[ 2.44948974,  0.        ,  0.        ,  0.        ],\n",
            "       [ 1.22474487,  2.12132034,  0.        ,  0.        ],\n",
            "       [ 1.63299316,  1.41421356,  2.30940108,  0.        ],\n",
            "       [ 3.26598632, -1.41421356,  1.58771324,  3.13249102]])\n"
          ]
        },
        {
          "output_type": "stream",
          "name": "stderr",
          "text": [
            "/usr/local/lib/python3.7/dist-packages/ipykernel_launcher.py:1: DeprecationWarning: scipy.array is deprecated and will be removed in SciPy 2.0.0, use numpy.array instead\n",
            "  \"\"\"Entry point for launching an IPython kernel.\n"
          ]
        }
      ],
      "source": [
        "A = scipy.array([[6, 3, 4, 8], [3, 6, 5, 1], [4, 5, 10, 7], [8, 1, 7, 25]])\n",
        "L=scipy.linalg.cholesky(A,lower=True)\n",
        "print(\"A:\")\n",
        "pprint.pprint(A)\n",
        "pprint.pprint(L)"
      ]
    },
    {
      "cell_type": "markdown",
      "source": [
        "# Monte Carlo Sims\n"
      ],
      "metadata": {
        "id": "ofcY1T4A61H6"
      }
    },
    {
      "cell_type": "code",
      "source": [
        "!pip install mcerp"
      ],
      "metadata": {
        "colab": {
          "base_uri": "https://localhost:8080/"
        },
        "id": "AUgLtvBD7JNy",
        "outputId": "cb043982-c0c8-40e9-aced-cfa6f2ea214e"
      },
      "execution_count": null,
      "outputs": [
        {
          "output_type": "stream",
          "name": "stdout",
          "text": [
            "Looking in indexes: https://pypi.org/simple, https://us-python.pkg.dev/colab-wheels/public/simple/\n",
            "Collecting mcerp\n",
            "  Downloading mcerp-0.12.tar.gz (290 kB)\n",
            "\u001b[K     |████████████████████████████████| 290 kB 24.2 MB/s \n",
            "\u001b[?25hRequirement already satisfied: numpy in /usr/local/lib/python3.7/dist-packages (from mcerp) (1.21.6)\n",
            "Requirement already satisfied: scipy in /usr/local/lib/python3.7/dist-packages (from mcerp) (1.7.3)\n",
            "Requirement already satisfied: matplotlib in /usr/local/lib/python3.7/dist-packages (from mcerp) (3.2.2)\n",
            "Requirement already satisfied: python-dateutil>=2.1 in /usr/local/lib/python3.7/dist-packages (from matplotlib->mcerp) (2.8.2)\n",
            "Requirement already satisfied: kiwisolver>=1.0.1 in /usr/local/lib/python3.7/dist-packages (from matplotlib->mcerp) (1.4.4)\n",
            "Requirement already satisfied: cycler>=0.10 in /usr/local/lib/python3.7/dist-packages (from matplotlib->mcerp) (0.11.0)\n",
            "Requirement already satisfied: pyparsing!=2.0.4,!=2.1.2,!=2.1.6,>=2.0.1 in /usr/local/lib/python3.7/dist-packages (from matplotlib->mcerp) (3.0.9)\n",
            "Requirement already satisfied: typing-extensions in /usr/local/lib/python3.7/dist-packages (from kiwisolver>=1.0.1->matplotlib->mcerp) (4.1.1)\n",
            "Requirement already satisfied: six>=1.5 in /usr/local/lib/python3.7/dist-packages (from python-dateutil>=2.1->matplotlib->mcerp) (1.15.0)\n",
            "Building wheels for collected packages: mcerp\n",
            "  Building wheel for mcerp (setup.py) ... \u001b[?25l\u001b[?25hdone\n",
            "  Created wheel for mcerp: filename=mcerp-0.12-py3-none-any.whl size=22831 sha256=d2e3d98758a69f33826f31e70edaa1f9528cc9c34f8879f97fd22f09753cd6b4\n",
            "  Stored in directory: /root/.cache/pip/wheels/a8/fe/8e/36655e5d300a31602be3d4833feb6b0a4250b4f7412bb32fcc\n",
            "Successfully built mcerp\n",
            "Installing collected packages: mcerp\n",
            "Successfully installed mcerp-0.12\n"
          ]
        }
      ]
    },
    {
      "cell_type": "code",
      "source": [
        "%matplotlib inline\n",
        "import pandas as pd\n",
        "import numpy as np\n",
        "import matplotlib.pyplot as plt\n",
        "\n",
        "from mcerp import correlate, correlation_matrix, plotcorr\n",
        "from mcerp import Beta, N, Exp, PERT\n",
        "from mcerp import uv, stats\n",
        "# from mcerp import *\n",
        "\n",
        "from scipy import stats as stats\n",
        "from scipy.stats import rv_continuous, beta, genextreme, rv_histogram\n",
        "import scipy.optimize as opt\n",
        "\n",
        "\n",
        "import warnings\n",
        "warnings.filterwarnings(\"ignore\")\n",
        "\n",
        "np.set_printoptions(precision=3, suppress=True)\n",
        "pd.options.display.float_format = '{:.3f}'.format\n",
        "\n",
        "nR = 10000"
      ],
      "metadata": {
        "id": "jYOdHyFl68gp"
      },
      "execution_count": null,
      "outputs": []
    },
    {
      "cell_type": "code",
      "source": [
        "# distribution parameters:\n",
        "min, mode, max, lmb = 8000.0, 12000.0, 18000.0, 4.0         # sales volume, PERT estimae\n",
        "ms, ss = 20.0, 1.0                                          # selling price, normally distributed\n",
        "mm, sm = 13.0, 0.7                                          # material unit cost, normally distributed \n",
        "o = 3.0      "
      ],
      "metadata": {
        "id": "EOZomU007TQ5"
      },
      "execution_count": null,
      "outputs": []
    },
    {
      "cell_type": "code",
      "source": [
        "# setting up the simulation model BEFORE calibrating correlations:\n",
        "\n",
        "# input variables:\n",
        "v1 = PERT(min, mode, max, lmb)                  # sales volume, PERT distributed\n",
        "p1 = N(ms, ss)                                  # selling price, normally distributed\n",
        "m1 = N(mm, sm)                                  # material unit cost, normally distributed \n",
        "o1 = o                                          # other unit cost, deterministic    \n",
        "\n",
        "\n",
        "# output variables:\n",
        "GP1 = v1 * (p1 - m1 - o1)                       # simulation output: Gross Profit\n",
        "R1 = v1 * p1                                    # simulation output: Revenues\n",
        "GM1 = GP1 / R1                                  # simulation output: Gross Margin\n",
        "C1 = R1 - GP1           "
      ],
      "metadata": {
        "id": "cU8RSuWH8N9S"
      },
      "execution_count": null,
      "outputs": []
    },
    {
      "cell_type": "code",
      "source": [
        "# run the simulation model, \n",
        "# and collect the results in array variables\n",
        "\n",
        "# number of mcerp samples\n",
        "npts = nR\n",
        "\n",
        "# assign the 6x 10,000 values to 6 variables so we can process their arrays later\n",
        "rv1 = v1._mcpts\n",
        "rp1 = p1._mcpts\n",
        "rm1 = m1._mcpts\n",
        "rGP1 = GP1._mcpts\n",
        "rR1 = R1._mcpts\n",
        "rGM1 = GM1._mcpts\n",
        "\n",
        "# combine the 6 arrays in a 2-dimensional array\n",
        "rand1 = np.vstack((rv1, rp1, rm1, rGP1, rR1, rGM1))\n",
        "\n",
        "# copy the array to a dataframe for a more transparent layout\n",
        "df1 = pd.DataFrame(data=rand1).T \n",
        "df1.rename(columns={ \n",
        "    0:\"volume 1\", 1:\"price 1\", 2:\"material 1\", 3:\"Gross Profit 1\", 4:\"Revenues 1\", 5:\"Gross Margin 1\"}, \n",
        "    inplace=True)\n",
        "df1"
      ],
      "metadata": {
        "colab": {
          "base_uri": "https://localhost:8080/",
          "height": 424
        },
        "id": "-rARdHng8o6p",
        "outputId": "240fe0f4-b847-4736-a9f8-3797b74fc4b9"
      },
      "execution_count": null,
      "outputs": [
        {
          "output_type": "execute_result",
          "data": {
            "text/plain": [
              "      volume 1  price 1  material 1  Gross Profit 1  Revenues 1  \\\n",
              "0    10469.242   21.256      14.104       43468.881  222537.758   \n",
              "1    14816.446   20.669      12.965       69704.004  306244.207   \n",
              "2    11731.796   19.688      12.739       46332.078  230978.409   \n",
              "3    12432.519   18.203      12.191       37444.269  226309.219   \n",
              "4    12553.803   21.582      13.089       68953.561  270937.435   \n",
              "...        ...      ...         ...             ...         ...   \n",
              "9995 11396.101   22.893      14.793       58115.197  260887.472   \n",
              "9996 11603.476   19.940      12.843       47544.293  231374.807   \n",
              "9997 12648.355   21.135      13.135       63237.034  267323.065   \n",
              "9998 12307.097   19.314      13.830       30561.953  237695.325   \n",
              "9999 13016.352   20.168      12.971       54634.295  262518.238   \n",
              "\n",
              "      Gross Margin 1  \n",
              "0              0.195  \n",
              "1              0.228  \n",
              "2              0.201  \n",
              "3              0.165  \n",
              "4              0.254  \n",
              "...              ...  \n",
              "9995           0.223  \n",
              "9996           0.205  \n",
              "9997           0.237  \n",
              "9998           0.129  \n",
              "9999           0.208  \n",
              "\n",
              "[10000 rows x 6 columns]"
            ],
            "text/html": [
              "\n",
              "  <div id=\"df-59d8ee1c-8ec2-409d-acdd-387d31d44b3f\">\n",
              "    <div class=\"colab-df-container\">\n",
              "      <div>\n",
              "<style scoped>\n",
              "    .dataframe tbody tr th:only-of-type {\n",
              "        vertical-align: middle;\n",
              "    }\n",
              "\n",
              "    .dataframe tbody tr th {\n",
              "        vertical-align: top;\n",
              "    }\n",
              "\n",
              "    .dataframe thead th {\n",
              "        text-align: right;\n",
              "    }\n",
              "</style>\n",
              "<table border=\"1\" class=\"dataframe\">\n",
              "  <thead>\n",
              "    <tr style=\"text-align: right;\">\n",
              "      <th></th>\n",
              "      <th>volume 1</th>\n",
              "      <th>price 1</th>\n",
              "      <th>material 1</th>\n",
              "      <th>Gross Profit 1</th>\n",
              "      <th>Revenues 1</th>\n",
              "      <th>Gross Margin 1</th>\n",
              "    </tr>\n",
              "  </thead>\n",
              "  <tbody>\n",
              "    <tr>\n",
              "      <th>0</th>\n",
              "      <td>10469.242</td>\n",
              "      <td>21.256</td>\n",
              "      <td>14.104</td>\n",
              "      <td>43468.881</td>\n",
              "      <td>222537.758</td>\n",
              "      <td>0.195</td>\n",
              "    </tr>\n",
              "    <tr>\n",
              "      <th>1</th>\n",
              "      <td>14816.446</td>\n",
              "      <td>20.669</td>\n",
              "      <td>12.965</td>\n",
              "      <td>69704.004</td>\n",
              "      <td>306244.207</td>\n",
              "      <td>0.228</td>\n",
              "    </tr>\n",
              "    <tr>\n",
              "      <th>2</th>\n",
              "      <td>11731.796</td>\n",
              "      <td>19.688</td>\n",
              "      <td>12.739</td>\n",
              "      <td>46332.078</td>\n",
              "      <td>230978.409</td>\n",
              "      <td>0.201</td>\n",
              "    </tr>\n",
              "    <tr>\n",
              "      <th>3</th>\n",
              "      <td>12432.519</td>\n",
              "      <td>18.203</td>\n",
              "      <td>12.191</td>\n",
              "      <td>37444.269</td>\n",
              "      <td>226309.219</td>\n",
              "      <td>0.165</td>\n",
              "    </tr>\n",
              "    <tr>\n",
              "      <th>4</th>\n",
              "      <td>12553.803</td>\n",
              "      <td>21.582</td>\n",
              "      <td>13.089</td>\n",
              "      <td>68953.561</td>\n",
              "      <td>270937.435</td>\n",
              "      <td>0.254</td>\n",
              "    </tr>\n",
              "    <tr>\n",
              "      <th>...</th>\n",
              "      <td>...</td>\n",
              "      <td>...</td>\n",
              "      <td>...</td>\n",
              "      <td>...</td>\n",
              "      <td>...</td>\n",
              "      <td>...</td>\n",
              "    </tr>\n",
              "    <tr>\n",
              "      <th>9995</th>\n",
              "      <td>11396.101</td>\n",
              "      <td>22.893</td>\n",
              "      <td>14.793</td>\n",
              "      <td>58115.197</td>\n",
              "      <td>260887.472</td>\n",
              "      <td>0.223</td>\n",
              "    </tr>\n",
              "    <tr>\n",
              "      <th>9996</th>\n",
              "      <td>11603.476</td>\n",
              "      <td>19.940</td>\n",
              "      <td>12.843</td>\n",
              "      <td>47544.293</td>\n",
              "      <td>231374.807</td>\n",
              "      <td>0.205</td>\n",
              "    </tr>\n",
              "    <tr>\n",
              "      <th>9997</th>\n",
              "      <td>12648.355</td>\n",
              "      <td>21.135</td>\n",
              "      <td>13.135</td>\n",
              "      <td>63237.034</td>\n",
              "      <td>267323.065</td>\n",
              "      <td>0.237</td>\n",
              "    </tr>\n",
              "    <tr>\n",
              "      <th>9998</th>\n",
              "      <td>12307.097</td>\n",
              "      <td>19.314</td>\n",
              "      <td>13.830</td>\n",
              "      <td>30561.953</td>\n",
              "      <td>237695.325</td>\n",
              "      <td>0.129</td>\n",
              "    </tr>\n",
              "    <tr>\n",
              "      <th>9999</th>\n",
              "      <td>13016.352</td>\n",
              "      <td>20.168</td>\n",
              "      <td>12.971</td>\n",
              "      <td>54634.295</td>\n",
              "      <td>262518.238</td>\n",
              "      <td>0.208</td>\n",
              "    </tr>\n",
              "  </tbody>\n",
              "</table>\n",
              "<p>10000 rows × 6 columns</p>\n",
              "</div>\n",
              "      <button class=\"colab-df-convert\" onclick=\"convertToInteractive('df-59d8ee1c-8ec2-409d-acdd-387d31d44b3f')\"\n",
              "              title=\"Convert this dataframe to an interactive table.\"\n",
              "              style=\"display:none;\">\n",
              "        \n",
              "  <svg xmlns=\"http://www.w3.org/2000/svg\" height=\"24px\"viewBox=\"0 0 24 24\"\n",
              "       width=\"24px\">\n",
              "    <path d=\"M0 0h24v24H0V0z\" fill=\"none\"/>\n",
              "    <path d=\"M18.56 5.44l.94 2.06.94-2.06 2.06-.94-2.06-.94-.94-2.06-.94 2.06-2.06.94zm-11 1L8.5 8.5l.94-2.06 2.06-.94-2.06-.94L8.5 2.5l-.94 2.06-2.06.94zm10 10l.94 2.06.94-2.06 2.06-.94-2.06-.94-.94-2.06-.94 2.06-2.06.94z\"/><path d=\"M17.41 7.96l-1.37-1.37c-.4-.4-.92-.59-1.43-.59-.52 0-1.04.2-1.43.59L10.3 9.45l-7.72 7.72c-.78.78-.78 2.05 0 2.83L4 21.41c.39.39.9.59 1.41.59.51 0 1.02-.2 1.41-.59l7.78-7.78 2.81-2.81c.8-.78.8-2.07 0-2.86zM5.41 20L4 18.59l7.72-7.72 1.47 1.35L5.41 20z\"/>\n",
              "  </svg>\n",
              "      </button>\n",
              "      \n",
              "  <style>\n",
              "    .colab-df-container {\n",
              "      display:flex;\n",
              "      flex-wrap:wrap;\n",
              "      gap: 12px;\n",
              "    }\n",
              "\n",
              "    .colab-df-convert {\n",
              "      background-color: #E8F0FE;\n",
              "      border: none;\n",
              "      border-radius: 50%;\n",
              "      cursor: pointer;\n",
              "      display: none;\n",
              "      fill: #1967D2;\n",
              "      height: 32px;\n",
              "      padding: 0 0 0 0;\n",
              "      width: 32px;\n",
              "    }\n",
              "\n",
              "    .colab-df-convert:hover {\n",
              "      background-color: #E2EBFA;\n",
              "      box-shadow: 0px 1px 2px rgba(60, 64, 67, 0.3), 0px 1px 3px 1px rgba(60, 64, 67, 0.15);\n",
              "      fill: #174EA6;\n",
              "    }\n",
              "\n",
              "    [theme=dark] .colab-df-convert {\n",
              "      background-color: #3B4455;\n",
              "      fill: #D2E3FC;\n",
              "    }\n",
              "\n",
              "    [theme=dark] .colab-df-convert:hover {\n",
              "      background-color: #434B5C;\n",
              "      box-shadow: 0px 1px 3px 1px rgba(0, 0, 0, 0.15);\n",
              "      filter: drop-shadow(0px 1px 2px rgba(0, 0, 0, 0.3));\n",
              "      fill: #FFFFFF;\n",
              "    }\n",
              "  </style>\n",
              "\n",
              "      <script>\n",
              "        const buttonEl =\n",
              "          document.querySelector('#df-59d8ee1c-8ec2-409d-acdd-387d31d44b3f button.colab-df-convert');\n",
              "        buttonEl.style.display =\n",
              "          google.colab.kernel.accessAllowed ? 'block' : 'none';\n",
              "\n",
              "        async function convertToInteractive(key) {\n",
              "          const element = document.querySelector('#df-59d8ee1c-8ec2-409d-acdd-387d31d44b3f');\n",
              "          const dataTable =\n",
              "            await google.colab.kernel.invokeFunction('convertToInteractive',\n",
              "                                                     [key], {});\n",
              "          if (!dataTable) return;\n",
              "\n",
              "          const docLinkHtml = 'Like what you see? Visit the ' +\n",
              "            '<a target=\"_blank\" href=https://colab.research.google.com/notebooks/data_table.ipynb>data table notebook</a>'\n",
              "            + ' to learn more about interactive tables.';\n",
              "          element.innerHTML = '';\n",
              "          dataTable['output_type'] = 'display_data';\n",
              "          await google.colab.output.renderOutput(dataTable, element);\n",
              "          const docLink = document.createElement('div');\n",
              "          docLink.innerHTML = docLinkHtml;\n",
              "          element.appendChild(docLink);\n",
              "        }\n",
              "      </script>\n",
              "    </div>\n",
              "  </div>\n",
              "  "
            ]
          },
          "metadata": {},
          "execution_count": 14
        }
      ]
    },
    {
      "cell_type": "code",
      "source": [
        "# helper function: plot histogram\n",
        "def plot_hist(data, title):\n",
        "    hist = np.histogram(data, bins=100)\n",
        "    histdist = rv_histogram(hist)\n",
        "\n",
        "    X = np.linspace(data.min(), data.max(), 100)\n",
        "    plt.title(title)\n",
        "    plt.hist(data, density=True, bins=100)\n",
        "    plt.plot(X, histdist.pdf(X))\n",
        "    plt.show()\n",
        "    \n",
        "    \n",
        "    # results: draw histograms\n",
        "plot_hist(rGP1, \"Gross Profit 1\")\n",
        "plot_hist(rR1, \"Revenues 1\")\n",
        "plot_hist(rGM1, \"%Gross Margin 1\")\n",
        "plot_hist(rv1, \"sales volume 1\")\n",
        "plot_hist(rp1, \"selling price 1\")"
      ],
      "metadata": {
        "colab": {
          "base_uri": "https://localhost:8080/",
          "height": 1000
        },
        "id": "2lZDArZG8v1k",
        "outputId": "0666a2a6-84ae-45bb-a6ad-a7810a106110"
      },
      "execution_count": null,
      "outputs": [
        {
          "output_type": "display_data",
          "data": {
            "text/plain": [
              "<Figure size 432x288 with 1 Axes>"
            ],
            "image/png": "[encoded data removed]"
          },
          "metadata": {
            "needs_background": "light"
          }
        },
        {
          "output_type": "display_data",
          "data": {
            "text/plain": [
              "<Figure size 432x288 with 1 Axes>"
            ],
            "image/png": "[encoded data removed]"
          },
          "metadata": {
            "needs_background": "light"
          }
        },
        {
          "output_type": "display_data",
          "data": {
            "text/plain": [
              "<Figure size 432x288 with 1 Axes>"
            ],
            "image/png": "[encoded data removed]"
          },
          "metadata": {
            "needs_background": "light"
          }
        },
        {
          "output_type": "display_data",
          "data": {
            "text/plain": [
              "<Figure size 432x288 with 1 Axes>"
            ],
            "image/png": "[encoded data removed]"
          },
          "metadata": {
            "needs_background": "light"
          }
        },
        {
          "output_type": "display_data",
          "data": {
            "text/plain": [
              "<Figure size 432x288 with 1 Axes>"
            ],
            "image/png": "[encoded data removed]"
          },
          "metadata": {
            "needs_background": "light"
          }
        }
      ]
    }
  ]
}